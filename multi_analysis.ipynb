{
 "cells": [
  {
   "cell_type": "markdown",
   "id": "711cebb2-09ee-4179-b607-af8ea87d293c",
   "metadata": {},
   "source": [
    "## Introduction"
   ]
  },
  {
   "cell_type": "markdown",
   "id": "4377aaa7-d391-497a-a5e5-8879176c6f8d",
   "metadata": {},
   "source": [
    "Washington State University's Decision Aid System as well as others have provided tree fruit growers with population phenology models for the common pest known as codling moth (_Cydia pomonella_) for years which have been shown to be quite reliable, and much research has been done into the population dynamics of codling moth subject to the manipulation various independent variables. One inconsistency relayed to the WSU CAHNRS Dept. of Entomology by growers is a discrepancy in the time our models expect the first emergences of the overwintering generation, and when their traps actually find evidence of them. Some organizations have asserted that these first trap captures are indicitive of the _real_ first emergence times, stating that they should be used as a sort of \"biofix\" that the models must be translated over to match. The fact that the same growers report significantly better matching in the second and third generations suggests to us that this is not the case, and we hypothesize that it is the result of sampling error that causes the difference in time between first emergence and first capture in these systems. Due to the very monolithic management of real orchards making field data not useful, and the very long turnaround times for new lab data to become available, it has been opted to use a simulation generating data matching key expectations gathered in previous lab studies to investigate the problem. The simulation is used to generate a swathe of data as a convolution of three varying degrees of freedom in the starting conditions (starting population size of the overwintering generation, percentage chance to capture a moth on a given degree day, and the average mating delay experienced by the moths)."
   ]
  },
  {
   "cell_type": "markdown",
   "id": "f14c2551-2e47-45a2-a181-17c264139006",
   "metadata": {},
   "source": [
    "## Import libraries and split into individual dataframes for each permutation of variables"
   ]
  },
  {
   "cell_type": "code",
   "execution_count": 1,
   "id": "c6bac5dc-7151-4c3d-b5da-916cde10a3f1",
   "metadata": {},
   "outputs": [
    {
     "ename": "FileNotFoundError",
     "evalue": "[Errno 2] No such file or directory: 'test_1.csv'",
     "output_type": "error",
     "traceback": [
      "\u001b[0;31m---------------------------------------------------------------------------\u001b[0m",
      "\u001b[0;31mFileNotFoundError\u001b[0m                         Traceback (most recent call last)",
      "Cell \u001b[0;32mIn[1], line 5\u001b[0m\n\u001b[1;32m      3\u001b[0m \u001b[38;5;28;01mimport\u001b[39;00m \u001b[38;5;21;01mmatplotlib\u001b[39;00m\u001b[38;5;21;01m.\u001b[39;00m\u001b[38;5;21;01mpyplot\u001b[39;00m \u001b[38;5;28;01mas\u001b[39;00m \u001b[38;5;21;01mplt\u001b[39;00m\n\u001b[1;32m      4\u001b[0m \u001b[38;5;28;01mimport\u001b[39;00m \u001b[38;5;21;01mmath\u001b[39;00m\n\u001b[0;32m----> 5\u001b[0m df \u001b[38;5;241m=\u001b[39m \u001b[43mpd\u001b[49m\u001b[38;5;241;43m.\u001b[39;49m\u001b[43mread_csv\u001b[49m\u001b[43m(\u001b[49m\u001b[38;5;124;43m'\u001b[39;49m\u001b[38;5;124;43mtest_1.csv\u001b[39;49m\u001b[38;5;124;43m'\u001b[39;49m\u001b[43m)\u001b[49m\n\u001b[1;32m      6\u001b[0m dfs \u001b[38;5;241m=\u001b[39m np\u001b[38;5;241m.\u001b[39marray_split(df, \u001b[38;5;28mlen\u001b[39m(df)\u001b[38;5;241m/\u001b[39mdf\u001b[38;5;241m.\u001b[39mdd_span\u001b[38;5;241m.\u001b[39mhead(\u001b[38;5;241m1\u001b[39m)\u001b[38;5;241m.\u001b[39miloc[\u001b[38;5;241m0\u001b[39m])\n",
      "File \u001b[0;32m/usr/lib/python3.11/site-packages/pandas/util/_decorators.py:211\u001b[0m, in \u001b[0;36mdeprecate_kwarg.<locals>._deprecate_kwarg.<locals>.wrapper\u001b[0;34m(*args, **kwargs)\u001b[0m\n\u001b[1;32m    209\u001b[0m     \u001b[38;5;28;01melse\u001b[39;00m:\n\u001b[1;32m    210\u001b[0m         kwargs[new_arg_name] \u001b[38;5;241m=\u001b[39m new_arg_value\n\u001b[0;32m--> 211\u001b[0m \u001b[38;5;28;01mreturn\u001b[39;00m \u001b[43mfunc\u001b[49m\u001b[43m(\u001b[49m\u001b[38;5;241;43m*\u001b[39;49m\u001b[43margs\u001b[49m\u001b[43m,\u001b[49m\u001b[43m \u001b[49m\u001b[38;5;241;43m*\u001b[39;49m\u001b[38;5;241;43m*\u001b[39;49m\u001b[43mkwargs\u001b[49m\u001b[43m)\u001b[49m\n",
      "File \u001b[0;32m/usr/lib/python3.11/site-packages/pandas/util/_decorators.py:331\u001b[0m, in \u001b[0;36mdeprecate_nonkeyword_arguments.<locals>.decorate.<locals>.wrapper\u001b[0;34m(*args, **kwargs)\u001b[0m\n\u001b[1;32m    325\u001b[0m \u001b[38;5;28;01mif\u001b[39;00m \u001b[38;5;28mlen\u001b[39m(args) \u001b[38;5;241m>\u001b[39m num_allow_args:\n\u001b[1;32m    326\u001b[0m     warnings\u001b[38;5;241m.\u001b[39mwarn(\n\u001b[1;32m    327\u001b[0m         msg\u001b[38;5;241m.\u001b[39mformat(arguments\u001b[38;5;241m=\u001b[39m_format_argument_list(allow_args)),\n\u001b[1;32m    328\u001b[0m         \u001b[38;5;167;01mFutureWarning\u001b[39;00m,\n\u001b[1;32m    329\u001b[0m         stacklevel\u001b[38;5;241m=\u001b[39mfind_stack_level(),\n\u001b[1;32m    330\u001b[0m     )\n\u001b[0;32m--> 331\u001b[0m \u001b[38;5;28;01mreturn\u001b[39;00m \u001b[43mfunc\u001b[49m\u001b[43m(\u001b[49m\u001b[38;5;241;43m*\u001b[39;49m\u001b[43margs\u001b[49m\u001b[43m,\u001b[49m\u001b[43m \u001b[49m\u001b[38;5;241;43m*\u001b[39;49m\u001b[38;5;241;43m*\u001b[39;49m\u001b[43mkwargs\u001b[49m\u001b[43m)\u001b[49m\n",
      "File \u001b[0;32m/usr/lib/python3.11/site-packages/pandas/io/parsers/readers.py:950\u001b[0m, in \u001b[0;36mread_csv\u001b[0;34m(filepath_or_buffer, sep, delimiter, header, names, index_col, usecols, squeeze, prefix, mangle_dupe_cols, dtype, engine, converters, true_values, false_values, skipinitialspace, skiprows, skipfooter, nrows, na_values, keep_default_na, na_filter, verbose, skip_blank_lines, parse_dates, infer_datetime_format, keep_date_col, date_parser, dayfirst, cache_dates, iterator, chunksize, compression, thousands, decimal, lineterminator, quotechar, quoting, doublequote, escapechar, comment, encoding, encoding_errors, dialect, error_bad_lines, warn_bad_lines, on_bad_lines, delim_whitespace, low_memory, memory_map, float_precision, storage_options)\u001b[0m\n\u001b[1;32m    935\u001b[0m kwds_defaults \u001b[38;5;241m=\u001b[39m _refine_defaults_read(\n\u001b[1;32m    936\u001b[0m     dialect,\n\u001b[1;32m    937\u001b[0m     delimiter,\n\u001b[0;32m   (...)\u001b[0m\n\u001b[1;32m    946\u001b[0m     defaults\u001b[38;5;241m=\u001b[39m{\u001b[38;5;124m\"\u001b[39m\u001b[38;5;124mdelimiter\u001b[39m\u001b[38;5;124m\"\u001b[39m: \u001b[38;5;124m\"\u001b[39m\u001b[38;5;124m,\u001b[39m\u001b[38;5;124m\"\u001b[39m},\n\u001b[1;32m    947\u001b[0m )\n\u001b[1;32m    948\u001b[0m kwds\u001b[38;5;241m.\u001b[39mupdate(kwds_defaults)\n\u001b[0;32m--> 950\u001b[0m \u001b[38;5;28;01mreturn\u001b[39;00m \u001b[43m_read\u001b[49m\u001b[43m(\u001b[49m\u001b[43mfilepath_or_buffer\u001b[49m\u001b[43m,\u001b[49m\u001b[43m \u001b[49m\u001b[43mkwds\u001b[49m\u001b[43m)\u001b[49m\n",
      "File \u001b[0;32m/usr/lib/python3.11/site-packages/pandas/io/parsers/readers.py:605\u001b[0m, in \u001b[0;36m_read\u001b[0;34m(filepath_or_buffer, kwds)\u001b[0m\n\u001b[1;32m    602\u001b[0m _validate_names(kwds\u001b[38;5;241m.\u001b[39mget(\u001b[38;5;124m\"\u001b[39m\u001b[38;5;124mnames\u001b[39m\u001b[38;5;124m\"\u001b[39m, \u001b[38;5;28;01mNone\u001b[39;00m))\n\u001b[1;32m    604\u001b[0m \u001b[38;5;66;03m# Create the parser.\u001b[39;00m\n\u001b[0;32m--> 605\u001b[0m parser \u001b[38;5;241m=\u001b[39m \u001b[43mTextFileReader\u001b[49m\u001b[43m(\u001b[49m\u001b[43mfilepath_or_buffer\u001b[49m\u001b[43m,\u001b[49m\u001b[43m \u001b[49m\u001b[38;5;241;43m*\u001b[39;49m\u001b[38;5;241;43m*\u001b[39;49m\u001b[43mkwds\u001b[49m\u001b[43m)\u001b[49m\n\u001b[1;32m    607\u001b[0m \u001b[38;5;28;01mif\u001b[39;00m chunksize \u001b[38;5;129;01mor\u001b[39;00m iterator:\n\u001b[1;32m    608\u001b[0m     \u001b[38;5;28;01mreturn\u001b[39;00m parser\n",
      "File \u001b[0;32m/usr/lib/python3.11/site-packages/pandas/io/parsers/readers.py:1442\u001b[0m, in \u001b[0;36mTextFileReader.__init__\u001b[0;34m(self, f, engine, **kwds)\u001b[0m\n\u001b[1;32m   1439\u001b[0m     \u001b[38;5;28mself\u001b[39m\u001b[38;5;241m.\u001b[39moptions[\u001b[38;5;124m\"\u001b[39m\u001b[38;5;124mhas_index_names\u001b[39m\u001b[38;5;124m\"\u001b[39m] \u001b[38;5;241m=\u001b[39m kwds[\u001b[38;5;124m\"\u001b[39m\u001b[38;5;124mhas_index_names\u001b[39m\u001b[38;5;124m\"\u001b[39m]\n\u001b[1;32m   1441\u001b[0m \u001b[38;5;28mself\u001b[39m\u001b[38;5;241m.\u001b[39mhandles: IOHandles \u001b[38;5;241m|\u001b[39m \u001b[38;5;28;01mNone\u001b[39;00m \u001b[38;5;241m=\u001b[39m \u001b[38;5;28;01mNone\u001b[39;00m\n\u001b[0;32m-> 1442\u001b[0m \u001b[38;5;28mself\u001b[39m\u001b[38;5;241m.\u001b[39m_engine \u001b[38;5;241m=\u001b[39m \u001b[38;5;28;43mself\u001b[39;49m\u001b[38;5;241;43m.\u001b[39;49m\u001b[43m_make_engine\u001b[49m\u001b[43m(\u001b[49m\u001b[43mf\u001b[49m\u001b[43m,\u001b[49m\u001b[43m \u001b[49m\u001b[38;5;28;43mself\u001b[39;49m\u001b[38;5;241;43m.\u001b[39;49m\u001b[43mengine\u001b[49m\u001b[43m)\u001b[49m\n",
      "File \u001b[0;32m/usr/lib/python3.11/site-packages/pandas/io/parsers/readers.py:1735\u001b[0m, in \u001b[0;36mTextFileReader._make_engine\u001b[0;34m(self, f, engine)\u001b[0m\n\u001b[1;32m   1733\u001b[0m     \u001b[38;5;28;01mif\u001b[39;00m \u001b[38;5;124m\"\u001b[39m\u001b[38;5;124mb\u001b[39m\u001b[38;5;124m\"\u001b[39m \u001b[38;5;129;01mnot\u001b[39;00m \u001b[38;5;129;01min\u001b[39;00m mode:\n\u001b[1;32m   1734\u001b[0m         mode \u001b[38;5;241m+\u001b[39m\u001b[38;5;241m=\u001b[39m \u001b[38;5;124m\"\u001b[39m\u001b[38;5;124mb\u001b[39m\u001b[38;5;124m\"\u001b[39m\n\u001b[0;32m-> 1735\u001b[0m \u001b[38;5;28mself\u001b[39m\u001b[38;5;241m.\u001b[39mhandles \u001b[38;5;241m=\u001b[39m \u001b[43mget_handle\u001b[49m\u001b[43m(\u001b[49m\n\u001b[1;32m   1736\u001b[0m \u001b[43m    \u001b[49m\u001b[43mf\u001b[49m\u001b[43m,\u001b[49m\n\u001b[1;32m   1737\u001b[0m \u001b[43m    \u001b[49m\u001b[43mmode\u001b[49m\u001b[43m,\u001b[49m\n\u001b[1;32m   1738\u001b[0m \u001b[43m    \u001b[49m\u001b[43mencoding\u001b[49m\u001b[38;5;241;43m=\u001b[39;49m\u001b[38;5;28;43mself\u001b[39;49m\u001b[38;5;241;43m.\u001b[39;49m\u001b[43moptions\u001b[49m\u001b[38;5;241;43m.\u001b[39;49m\u001b[43mget\u001b[49m\u001b[43m(\u001b[49m\u001b[38;5;124;43m\"\u001b[39;49m\u001b[38;5;124;43mencoding\u001b[39;49m\u001b[38;5;124;43m\"\u001b[39;49m\u001b[43m,\u001b[49m\u001b[43m \u001b[49m\u001b[38;5;28;43;01mNone\u001b[39;49;00m\u001b[43m)\u001b[49m\u001b[43m,\u001b[49m\n\u001b[1;32m   1739\u001b[0m \u001b[43m    \u001b[49m\u001b[43mcompression\u001b[49m\u001b[38;5;241;43m=\u001b[39;49m\u001b[38;5;28;43mself\u001b[39;49m\u001b[38;5;241;43m.\u001b[39;49m\u001b[43moptions\u001b[49m\u001b[38;5;241;43m.\u001b[39;49m\u001b[43mget\u001b[49m\u001b[43m(\u001b[49m\u001b[38;5;124;43m\"\u001b[39;49m\u001b[38;5;124;43mcompression\u001b[39;49m\u001b[38;5;124;43m\"\u001b[39;49m\u001b[43m,\u001b[49m\u001b[43m \u001b[49m\u001b[38;5;28;43;01mNone\u001b[39;49;00m\u001b[43m)\u001b[49m\u001b[43m,\u001b[49m\n\u001b[1;32m   1740\u001b[0m \u001b[43m    \u001b[49m\u001b[43mmemory_map\u001b[49m\u001b[38;5;241;43m=\u001b[39;49m\u001b[38;5;28;43mself\u001b[39;49m\u001b[38;5;241;43m.\u001b[39;49m\u001b[43moptions\u001b[49m\u001b[38;5;241;43m.\u001b[39;49m\u001b[43mget\u001b[49m\u001b[43m(\u001b[49m\u001b[38;5;124;43m\"\u001b[39;49m\u001b[38;5;124;43mmemory_map\u001b[39;49m\u001b[38;5;124;43m\"\u001b[39;49m\u001b[43m,\u001b[49m\u001b[43m \u001b[49m\u001b[38;5;28;43;01mFalse\u001b[39;49;00m\u001b[43m)\u001b[49m\u001b[43m,\u001b[49m\n\u001b[1;32m   1741\u001b[0m \u001b[43m    \u001b[49m\u001b[43mis_text\u001b[49m\u001b[38;5;241;43m=\u001b[39;49m\u001b[43mis_text\u001b[49m\u001b[43m,\u001b[49m\n\u001b[1;32m   1742\u001b[0m \u001b[43m    \u001b[49m\u001b[43merrors\u001b[49m\u001b[38;5;241;43m=\u001b[39;49m\u001b[38;5;28;43mself\u001b[39;49m\u001b[38;5;241;43m.\u001b[39;49m\u001b[43moptions\u001b[49m\u001b[38;5;241;43m.\u001b[39;49m\u001b[43mget\u001b[49m\u001b[43m(\u001b[49m\u001b[38;5;124;43m\"\u001b[39;49m\u001b[38;5;124;43mencoding_errors\u001b[39;49m\u001b[38;5;124;43m\"\u001b[39;49m\u001b[43m,\u001b[49m\u001b[43m \u001b[49m\u001b[38;5;124;43m\"\u001b[39;49m\u001b[38;5;124;43mstrict\u001b[39;49m\u001b[38;5;124;43m\"\u001b[39;49m\u001b[43m)\u001b[49m\u001b[43m,\u001b[49m\n\u001b[1;32m   1743\u001b[0m \u001b[43m    \u001b[49m\u001b[43mstorage_options\u001b[49m\u001b[38;5;241;43m=\u001b[39;49m\u001b[38;5;28;43mself\u001b[39;49m\u001b[38;5;241;43m.\u001b[39;49m\u001b[43moptions\u001b[49m\u001b[38;5;241;43m.\u001b[39;49m\u001b[43mget\u001b[49m\u001b[43m(\u001b[49m\u001b[38;5;124;43m\"\u001b[39;49m\u001b[38;5;124;43mstorage_options\u001b[39;49m\u001b[38;5;124;43m\"\u001b[39;49m\u001b[43m,\u001b[49m\u001b[43m \u001b[49m\u001b[38;5;28;43;01mNone\u001b[39;49;00m\u001b[43m)\u001b[49m\u001b[43m,\u001b[49m\n\u001b[1;32m   1744\u001b[0m \u001b[43m\u001b[49m\u001b[43m)\u001b[49m\n\u001b[1;32m   1745\u001b[0m \u001b[38;5;28;01massert\u001b[39;00m \u001b[38;5;28mself\u001b[39m\u001b[38;5;241m.\u001b[39mhandles \u001b[38;5;129;01mis\u001b[39;00m \u001b[38;5;129;01mnot\u001b[39;00m \u001b[38;5;28;01mNone\u001b[39;00m\n\u001b[1;32m   1746\u001b[0m f \u001b[38;5;241m=\u001b[39m \u001b[38;5;28mself\u001b[39m\u001b[38;5;241m.\u001b[39mhandles\u001b[38;5;241m.\u001b[39mhandle\n",
      "File \u001b[0;32m/usr/lib/python3.11/site-packages/pandas/io/common.py:856\u001b[0m, in \u001b[0;36mget_handle\u001b[0;34m(path_or_buf, mode, encoding, compression, memory_map, is_text, errors, storage_options)\u001b[0m\n\u001b[1;32m    851\u001b[0m \u001b[38;5;28;01melif\u001b[39;00m \u001b[38;5;28misinstance\u001b[39m(handle, \u001b[38;5;28mstr\u001b[39m):\n\u001b[1;32m    852\u001b[0m     \u001b[38;5;66;03m# Check whether the filename is to be opened in binary mode.\u001b[39;00m\n\u001b[1;32m    853\u001b[0m     \u001b[38;5;66;03m# Binary mode does not support 'encoding' and 'newline'.\u001b[39;00m\n\u001b[1;32m    854\u001b[0m     \u001b[38;5;28;01mif\u001b[39;00m ioargs\u001b[38;5;241m.\u001b[39mencoding \u001b[38;5;129;01mand\u001b[39;00m \u001b[38;5;124m\"\u001b[39m\u001b[38;5;124mb\u001b[39m\u001b[38;5;124m\"\u001b[39m \u001b[38;5;129;01mnot\u001b[39;00m \u001b[38;5;129;01min\u001b[39;00m ioargs\u001b[38;5;241m.\u001b[39mmode:\n\u001b[1;32m    855\u001b[0m         \u001b[38;5;66;03m# Encoding\u001b[39;00m\n\u001b[0;32m--> 856\u001b[0m         handle \u001b[38;5;241m=\u001b[39m \u001b[38;5;28;43mopen\u001b[39;49m\u001b[43m(\u001b[49m\n\u001b[1;32m    857\u001b[0m \u001b[43m            \u001b[49m\u001b[43mhandle\u001b[49m\u001b[43m,\u001b[49m\n\u001b[1;32m    858\u001b[0m \u001b[43m            \u001b[49m\u001b[43mioargs\u001b[49m\u001b[38;5;241;43m.\u001b[39;49m\u001b[43mmode\u001b[49m\u001b[43m,\u001b[49m\n\u001b[1;32m    859\u001b[0m \u001b[43m            \u001b[49m\u001b[43mencoding\u001b[49m\u001b[38;5;241;43m=\u001b[39;49m\u001b[43mioargs\u001b[49m\u001b[38;5;241;43m.\u001b[39;49m\u001b[43mencoding\u001b[49m\u001b[43m,\u001b[49m\n\u001b[1;32m    860\u001b[0m \u001b[43m            \u001b[49m\u001b[43merrors\u001b[49m\u001b[38;5;241;43m=\u001b[39;49m\u001b[43merrors\u001b[49m\u001b[43m,\u001b[49m\n\u001b[1;32m    861\u001b[0m \u001b[43m            \u001b[49m\u001b[43mnewline\u001b[49m\u001b[38;5;241;43m=\u001b[39;49m\u001b[38;5;124;43m\"\u001b[39;49m\u001b[38;5;124;43m\"\u001b[39;49m\u001b[43m,\u001b[49m\n\u001b[1;32m    862\u001b[0m \u001b[43m        \u001b[49m\u001b[43m)\u001b[49m\n\u001b[1;32m    863\u001b[0m     \u001b[38;5;28;01melse\u001b[39;00m:\n\u001b[1;32m    864\u001b[0m         \u001b[38;5;66;03m# Binary mode\u001b[39;00m\n\u001b[1;32m    865\u001b[0m         handle \u001b[38;5;241m=\u001b[39m \u001b[38;5;28mopen\u001b[39m(handle, ioargs\u001b[38;5;241m.\u001b[39mmode)\n",
      "\u001b[0;31mFileNotFoundError\u001b[0m: [Errno 2] No such file or directory: 'test_1.csv'"
     ]
    }
   ],
   "source": [
    "import pandas as pd\n",
    "import numpy as np\n",
    "import matplotlib.pyplot as plt\n",
    "import math\n",
    "df = pd.read_csv('test_1.csv')\n",
    "dfs = np.array_split(df, len(df)/df.dd_span.head(1).iloc[0])"
   ]
  },
  {
   "cell_type": "code",
   "execution_count": 7,
   "id": "ca86d6d7-98d1-4fa4-94f1-5c6da0e83d97",
   "metadata": {},
   "outputs": [
    {
     "data": {
      "text/html": [
       "<div>\n",
       "<style scoped>\n",
       "    .dataframe tbody tr th:only-of-type {\n",
       "        vertical-align: middle;\n",
       "    }\n",
       "\n",
       "    .dataframe tbody tr th {\n",
       "        vertical-align: top;\n",
       "    }\n",
       "\n",
       "    .dataframe thead th {\n",
       "        text-align: right;\n",
       "    }\n",
       "</style>\n",
       "<table border=\"1\" class=\"dataframe\">\n",
       "  <thead>\n",
       "    <tr style=\"text-align: right;\">\n",
       "      <th></th>\n",
       "      <th>dd</th>\n",
       "      <th>captured</th>\n",
       "      <th>pop_active_0</th>\n",
       "      <th>pop_active_1</th>\n",
       "      <th>pop_active_2</th>\n",
       "      <th>eggs_0</th>\n",
       "      <th>eggs_1</th>\n",
       "      <th>eggs_2</th>\n",
       "      <th>eggs_total_0</th>\n",
       "      <th>eggs_total_1</th>\n",
       "      <th>eggs_total_2</th>\n",
       "      <th>Unnamed: 11</th>\n",
       "      <th>pop_0</th>\n",
       "      <th>prob_capture</th>\n",
       "      <th>mating_delay</th>\n",
       "      <th>dd_span</th>\n",
       "    </tr>\n",
       "  </thead>\n",
       "  <tbody>\n",
       "    <tr>\n",
       "      <th>0</th>\n",
       "      <td>0</td>\n",
       "      <td>0.0</td>\n",
       "      <td>0.0</td>\n",
       "      <td>0.0</td>\n",
       "      <td>0.0</td>\n",
       "      <td>1000.0</td>\n",
       "      <td>0.0</td>\n",
       "      <td>0.0</td>\n",
       "      <td>1000</td>\n",
       "      <td>0.0</td>\n",
       "      <td>0.0</td>\n",
       "      <td>NaN</td>\n",
       "      <td>1000</td>\n",
       "      <td>0.001</td>\n",
       "      <td>0</td>\n",
       "      <td>2201</td>\n",
       "    </tr>\n",
       "    <tr>\n",
       "      <th>1</th>\n",
       "      <td>1</td>\n",
       "      <td>0.0</td>\n",
       "      <td>0.0</td>\n",
       "      <td>0.0</td>\n",
       "      <td>0.0</td>\n",
       "      <td>1000.0</td>\n",
       "      <td>0.0</td>\n",
       "      <td>0.0</td>\n",
       "      <td>1000</td>\n",
       "      <td>0.0</td>\n",
       "      <td>0.0</td>\n",
       "      <td>NaN</td>\n",
       "      <td>1000</td>\n",
       "      <td>0.001</td>\n",
       "      <td>0</td>\n",
       "      <td>2201</td>\n",
       "    </tr>\n",
       "    <tr>\n",
       "      <th>2</th>\n",
       "      <td>2</td>\n",
       "      <td>0.0</td>\n",
       "      <td>0.0</td>\n",
       "      <td>0.0</td>\n",
       "      <td>0.0</td>\n",
       "      <td>1000.0</td>\n",
       "      <td>0.0</td>\n",
       "      <td>0.0</td>\n",
       "      <td>1000</td>\n",
       "      <td>0.0</td>\n",
       "      <td>0.0</td>\n",
       "      <td>NaN</td>\n",
       "      <td>1000</td>\n",
       "      <td>0.001</td>\n",
       "      <td>0</td>\n",
       "      <td>2201</td>\n",
       "    </tr>\n",
       "    <tr>\n",
       "      <th>3</th>\n",
       "      <td>3</td>\n",
       "      <td>0.0</td>\n",
       "      <td>0.0</td>\n",
       "      <td>0.0</td>\n",
       "      <td>0.0</td>\n",
       "      <td>1000.0</td>\n",
       "      <td>0.0</td>\n",
       "      <td>0.0</td>\n",
       "      <td>1000</td>\n",
       "      <td>0.0</td>\n",
       "      <td>0.0</td>\n",
       "      <td>NaN</td>\n",
       "      <td>1000</td>\n",
       "      <td>0.001</td>\n",
       "      <td>0</td>\n",
       "      <td>2201</td>\n",
       "    </tr>\n",
       "    <tr>\n",
       "      <th>4</th>\n",
       "      <td>4</td>\n",
       "      <td>0.0</td>\n",
       "      <td>0.0</td>\n",
       "      <td>0.0</td>\n",
       "      <td>0.0</td>\n",
       "      <td>1000.0</td>\n",
       "      <td>0.0</td>\n",
       "      <td>0.0</td>\n",
       "      <td>1000</td>\n",
       "      <td>0.0</td>\n",
       "      <td>0.0</td>\n",
       "      <td>NaN</td>\n",
       "      <td>1000</td>\n",
       "      <td>0.001</td>\n",
       "      <td>0</td>\n",
       "      <td>2201</td>\n",
       "    </tr>\n",
       "  </tbody>\n",
       "</table>\n",
       "</div>"
      ],
      "text/plain": [
       "   dd  captured  pop_active_0  pop_active_1  pop_active_2  eggs_0  eggs_1  \\\n",
       "0   0       0.0           0.0           0.0           0.0  1000.0     0.0   \n",
       "1   1       0.0           0.0           0.0           0.0  1000.0     0.0   \n",
       "2   2       0.0           0.0           0.0           0.0  1000.0     0.0   \n",
       "3   3       0.0           0.0           0.0           0.0  1000.0     0.0   \n",
       "4   4       0.0           0.0           0.0           0.0  1000.0     0.0   \n",
       "\n",
       "   eggs_2  eggs_total_0  eggs_total_1  eggs_total_2  Unnamed: 11  pop_0  \\\n",
       "0     0.0          1000           0.0           0.0          NaN   1000   \n",
       "1     0.0          1000           0.0           0.0          NaN   1000   \n",
       "2     0.0          1000           0.0           0.0          NaN   1000   \n",
       "3     0.0          1000           0.0           0.0          NaN   1000   \n",
       "4     0.0          1000           0.0           0.0          NaN   1000   \n",
       "\n",
       "   prob_capture  mating_delay  dd_span  \n",
       "0         0.001             0     2201  \n",
       "1         0.001             0     2201  \n",
       "2         0.001             0     2201  \n",
       "3         0.001             0     2201  \n",
       "4         0.001             0     2201  "
      ]
     },
     "execution_count": 7,
     "metadata": {},
     "output_type": "execute_result"
    }
   ],
   "source": [
    "dfs[0].head()"
   ]
  },
  {
   "cell_type": "markdown",
   "id": "72a92638-261e-4da2-81ca-76ac0dad1959",
   "metadata": {},
   "source": [
    "## Compile data about capture-emergence difference and clean instances with no first generation captures and/or first generation emergences"
   ]
  },
  {
   "cell_type": "code",
   "execution_count": 5,
   "id": "a0082649-d2c5-442f-823d-d070ab9a95c1",
   "metadata": {},
   "outputs": [],
   "source": [
    "def compile_diffs(dfs, thresh: int):\n",
    "    capture_data = []\n",
    "    for frame in dfs:\n",
    "        first_capture = frame[frame.captured > thresh].head(1).dd\n",
    "        first_emergence = frame[(frame.pop_emerged_0 > thresh)].head(1).dd\n",
    "        if not first_capture.empty and not first_emergence.empty:\n",
    "            diff = first_capture.iloc[0] - first_emergence.iloc[0]\n",
    "            pop_0 = frame.head(1).pop_0.iloc[0]\n",
    "            prob_capture = frame.head(1).prob_capture.iloc[0]\n",
    "            mating_delay = frame.head(1).mating_delay.iloc[0]\n",
    "            ratio_naive = pop_0 * prob_capture\n",
    "            ratio = (pop_0 ** 1/3) * (prob_capture ** 3)\n",
    "            capture_data.append((diff, ratio, ratio_naive, pop_0, prob_capture, mating_delay))\n",
    "    return capture_data\n",
    "\n",
    "first_capture_data = compile_diffs(dfs, 1)"
   ]
  },
  {
   "cell_type": "markdown",
   "id": "1cd8b07f-fcea-4d9f-ac9c-b4219435b415",
   "metadata": {},
   "source": [
    "Two ratios are generated here for combinations between overwintering pop size and capture probability, a naive ratio just by multiplying them together (yes, I know this technically isn't a ratio since it's not divison, but since one of these values is very big and the other very small, multiplying gives much nicer numbers and is no less valid as a combination of the two than if I chose to multiply), and a better ratio by multiplying the cube root of the population to the cube of the capture probability. This balances out their relative importance in determining the difference much better, as will be demonstrated."
   ]
  },
  {
   "cell_type": "markdown",
   "id": "7febdbad-f3eb-4fb6-bbea-f2be810d69e8",
   "metadata": {},
   "source": [
    "## Organize data into three dataframes, a unified frame, an explanitory varaible frame, and a dependent variable frame"
   ]
  },
  {
   "cell_type": "code",
   "execution_count": null,
   "id": "aabc0222-ee75-4a82-bc8c-7c002e54727c",
   "metadata": {},
   "outputs": [],
   "source": [
    "capture_df = pd.DataFrame(first_capture_data, columns=['difference', 'ratio', 'naive_ratio', 'pop_0', 'prob_capture', 'mating_delay'])\n",
    "df_x = capture_df.drop('difference', axis=1)\n",
    "df_y = capture_df['difference']"
   ]
  },
  {
   "cell_type": "markdown",
   "id": "8d459f09-6d7c-49b3-8ec9-2e4c91e6393d",
   "metadata": {},
   "source": [
    "## View variables against each other"
   ]
  },
  {
   "cell_type": "markdown",
   "id": "6040c401-1749-4605-a86b-306184409a02",
   "metadata": {},
   "source": [
    "capture_df.plot.scatter(1, 0, 1.5, logy=False)\n",
    "capture_df.plot.scatter(2, 0, 1.5, logy=False)\n",
    "capture_df.plot.scatter(3, 0, 1.5, logy=False)\n",
    "capture_df.plot.scatter(4, 0, 1.5, logy=False)\n",
    "capture_df.plot.scatter(5, 0, 1.5, logy=False)"
   ]
  },
  {
   "cell_type": "markdown",
   "id": "7ed5b356-0813-4c35-96cf-e94dfeb0275b",
   "metadata": {},
   "source": [
    "## Create function for automatically fitting reciprocal functions using inverse-composition linearization"
   ]
  },
  {
   "cell_type": "code",
   "execution_count": null,
   "id": "25940ab2-d33a-47da-9b31-142785da6d2d",
   "metadata": {},
   "outputs": [],
   "source": [
    "def autofit_reciprocal(x, y, a_guess, b_guess, c_guess, full_output=False):\n",
    "    a = a_guess\n",
    "    b = b_guess\n",
    "    c = c_guess\n",
    "    slope = 2\n",
    "    intercept = 1\n",
    "\n",
    "    # fit 'b' parameter\n",
    "    magnitude = 1\n",
    "    for _ in range(1,50):\n",
    "        y_linear = np.power(np.multiply(np.reciprocal(np.subtract(y, b)), a), 1 / c)\n",
    "        p = np.polyfit(x, y_linear, 1, w=np.log(y))\n",
    "        b_below = b + (0.1 ** magnitude)\n",
    "        b_above = b - (0.1 ** magnitude)\n",
    "        y_linear_above = np.power(np.multiply(np.reciprocal(np.subtract(y, b_above)), a), 1 / c)\n",
    "        y_linear_below = np.power(np.multiply(np.reciprocal(np.subtract(y, b_below)), a), 1 / c)\n",
    "        p_above = np.polyfit(x, y_linear_above, 1, w=np.log(y))\n",
    "        p_below = np.polyfit(x, y_linear_below, 1, w=np.log(y))\n",
    "        if abs(p[1]) < abs(p_above[1]) and abs(p[1]) < abs(p_below[1]):\n",
    "            magnitude = magnitude + 1\n",
    "        elif abs(p_above[1]) < abs(p_below[1]):\n",
    "            b = b_above\n",
    "        elif abs(p_below[1]) < abs(p_above[1]):\n",
    "            b = b_below\n",
    "\n",
    "    # fit 'a' parameter\n",
    "    magnitude = 0\n",
    "    for _ in range(1,50):\n",
    "        y_linear = np.power(np.multiply(np.reciprocal(np.subtract(y, b)), a), 1 / c)\n",
    "        p = np.polyfit(x, y_linear, 1, w=np.log(y))\n",
    "        a_below = a + (0.1 ** magnitude)\n",
    "        a_above = a - (0.1 ** magnitude)\n",
    "        y_linear_above = np.power(np.multiply(np.reciprocal(np.subtract(y, b)), a_above), 1 / c)\n",
    "        y_linear_below = np.power(np.multiply(np.reciprocal(np.subtract(y, b)), a_below), 1 / c)\n",
    "        p_above = np.polyfit(x, y_linear_above, 1, w=np.log(y))\n",
    "        p_below = np.polyfit(x, y_linear_below, 1, w=np.log(y))\n",
    "        # print(f'{a}, {p_above[0]}, {p[0]}, {p_below[0]}')\n",
    "        if abs(p[0] - 1) < abs(p_above[0] - 1) and abs(p[0] - 1) < abs(p_below[0] - 1):\n",
    "            magnitude = magnitude + 1\n",
    "        elif abs(p_above[0] - 1) < abs(p_below[0] - 1):\n",
    "            a = a_above\n",
    "        elif abs(p_below[0] - 1) < abs(p_above[0] - 1):\n",
    "            a = a_below\n",
    "    if full_output:\n",
    "        return (a, b, p)\n",
    "    else:\n",
    "        return (a, b)"
   ]
  },
  {
   "cell_type": "markdown",
   "id": "24fdf7e9-d65d-4149-8c0f-583dfec1168e",
   "metadata": {},
   "source": [
    "## Fit curve to data using naive ratio"
   ]
  },
  {
   "cell_type": "code",
   "execution_count": null,
   "id": "b9807e74-d1fd-4323-a974-e5694fddf033",
   "metadata": {},
   "outputs": [],
   "source": [
    "x = capture_df.naive_ratio\n",
    "y = capture_df.difference\n",
    "\n",
    "c = 0.29\n",
    "a, b, p = autofit_reciprocal(x, y, 3, 0.3, c, full_output=True)\n",
    "print(*p)\n",
    "\n",
    "y_linear_naive = np.power(np.multiply(np.reciprocal(np.subtract(y, b)), a), 1 / c)\n",
    "\n",
    "fitted_x = np.linspace(x.min(), x.max(),1000)\n",
    "fitted_y_naive = np.add(np.multiply(np.reciprocal(np.power(x, c)), a), b)\n",
    "\n",
    "ax = plt.axes()\n",
    "ax.scatter(x, y, label='Data', s=2)\n",
    "ax.scatter(x, fitted_y_naive, label='Prediction', s=1)\n",
    "ax.set_title('Fitted curve for ratio to difference relationship')\n",
    "ax.set_ylabel('ln( difference )')\n",
    "ax.set_yscale('log') # view in log to emphasize small differences\n",
    "ax.set_ylim(1, 80)\n",
    "ax.set_xlabel('ratio')\n",
    "ax.legend()"
   ]
  },
  {
   "cell_type": "markdown",
   "id": "2cf3b107-6153-4a72-aae7-1afa1c66831d",
   "metadata": {},
   "source": [
    "## Check residuals"
   ]
  },
  {
   "cell_type": "code",
   "execution_count": null,
   "id": "4ae87269-bafc-42ca-bcdf-de61f4b3e564",
   "metadata": {},
   "outputs": [],
   "source": [
    "from scipy.stats import zscore\n",
    "\n",
    "def residual_plot(x, y, fitted_y):\n",
    "    data = {'ratio': x, 'residual':np.subtract(y, fitted_y)}\n",
    "    residuals = pd.DataFrame(data)\n",
    "    residuals = residuals[(np.abs(zscore(residuals.residual)) < 4)]\n",
    "    ax = plt.axes()\n",
    "    ax.scatter(residuals.ratio, residuals.residual, label='Data', s=2)\n",
    "    ax.set_title('Residuals vs. ratio')\n",
    "    ax.set_ylabel('Actual value - predicted value')\n",
    "    ax.set_xlabel('ratio')\n",
    "\n",
    "residual_plot(x, y, fitted_y_naive)"
   ]
  },
  {
   "cell_type": "markdown",
   "id": "c60af811-0cd6-4652-a42a-ab6d96abb8b3",
   "metadata": {},
   "source": [
    "+/- 10 degree day heteroscedasticity could definitely be improved"
   ]
  },
  {
   "cell_type": "markdown",
   "id": "d8ced304-b3da-4dc9-b480-61042843329a",
   "metadata": {},
   "source": [
    "## Fit curve to data using smarter ratio"
   ]
  },
  {
   "cell_type": "code",
   "execution_count": null,
   "id": "2d7058e4-e596-420d-b518-fd500f556bcd",
   "metadata": {},
   "outputs": [],
   "source": [
    "x = capture_df.ratio\n",
    "y = capture_df.difference\n",
    "\n",
    "c = 0.2\n",
    "a, b = autofit_reciprocal(x, y, 3, 0.7, c)\n",
    "\n",
    "y_linear = np.power(np.multiply(np.reciprocal(np.subtract(y, b)), a), 1 / c)\n",
    "\n",
    "fitted_x = np.linspace(x.min(), x.max(),1000)\n",
    "fitted_y = np.add(np.multiply(np.reciprocal(np.power(x, c)), a), b)\n",
    "\n",
    "ax = plt.axes()\n",
    "ax.scatter(x, y, label='Data', s=2)\n",
    "ax.scatter(x, fitted_y, label='Prediction', s=1)\n",
    "ax.set_title('Fitted curve for ratio to difference relationship')\n",
    "ax.set_ylabel('ln( difference )')\n",
    "ax.set_yscale('log') # view in log to emphasize small differences\n",
    "ax.set_ylim(1, 80)\n",
    "ax.set_xlabel('ratio')\n",
    "ax.legend()\n",
    "print((a, b))"
   ]
  },
  {
   "cell_type": "markdown",
   "id": "f56bdd41-d74f-4d94-b195-c2b57826baa0",
   "metadata": {},
   "source": [
    "For the ratio function of (pop_0^1/3) * (prob_capture^3), a function of y = (3.024 / x ^ 0.2) + 0.965 predicts the difference in first emergence and first capture."
   ]
  },
  {
   "cell_type": "markdown",
   "id": "df7ab174-99c4-4f07-9e75-db18f42335d0",
   "metadata": {},
   "source": [
    "## Determine goodness of fit by looking at residuals"
   ]
  },
  {
   "cell_type": "markdown",
   "id": "fd6e2831-5ebb-426c-be50-c58f3397d253",
   "metadata": {},
   "source": [
    "### Residual Plot"
   ]
  },
  {
   "cell_type": "code",
   "execution_count": null,
   "id": "84f1d2fd-0347-4515-b33c-733063f79e4d",
   "metadata": {},
   "outputs": [],
   "source": [
    "residual_plot(x, y, fitted_y)"
   ]
  },
  {
   "cell_type": "markdown",
   "id": "38b4ddda-3350-4606-8a7f-6f08366bf4c0",
   "metadata": {},
   "source": [
    "Definitely still some heteroscedasticity, but it looks like the worst of it is only +/- 3, and the majority of points seem to be in the +/- 1 area. Measureable improvement from the naive ratio. Furthermore, from looking at the fitted curve graphs of the two, no value of 'c' was able to match both the extreme and median points to a satisfactory degree with the naive ratio, but a 'c' of 0.2 matches both quite well with the smarter combination"
   ]
  },
  {
   "cell_type": "markdown",
   "id": "7771c019-f3d9-48c4-b2a9-3c701d1ee82a",
   "metadata": {},
   "source": [
    "### Measure how bad the heteroscedasticity is within the unstable small values area"
   ]
  },
  {
   "cell_type": "code",
   "execution_count": null,
   "id": "0753623c-e655-4088-b0ee-a780c2567981",
   "metadata": {},
   "outputs": [],
   "source": [
    "from scipy.ndimage import gaussian_filter1d\n",
    "\n",
    "rolling_avg = gaussian_filter1d(np.subtract(y, fitted_y), 15, mode='nearest')\n",
    "\n",
    "ax = plt.axes()\n",
    "ax.scatter(x, np.subtract(y, fitted_y), label='Data', s=2)\n",
    "ax.scatter(x, rolling_avg, label='Gaussian Rolling Avg', s=1)\n",
    "ax.set_title('Residuals vs. ratio')\n",
    "ax.set_ylabel('Actual value - predicted value')\n",
    "ax.set_xlabel('ratio')\n",
    "ax.legend()"
   ]
  },
  {
   "cell_type": "markdown",
   "id": "9d3cbc29-cb94-4ac0-93a7-ca195cf08397",
   "metadata": {},
   "source": [
    "With a gaussian weighted rolling average with a standard deviation of 15, it does appear the vast majority of all residuals hang within the +/- 1.0 range, which is definitely below noise for field emergences/captures. I am quite satisfied with this, though I do think the ultimate root cause of the heteroscedasticity could probably be weeded out given enough time and the residuals could be made 100% normally distributed. For now, this is well within the bounds of utility."
   ]
  },
  {
   "cell_type": "markdown",
   "id": "2e5d8497-af50-4839-9f9d-e474dd334d91",
   "metadata": {},
   "source": [
    "### Average bias per point"
   ]
  },
  {
   "cell_type": "code",
   "execution_count": null,
   "id": "e502128e-dbc9-4183-8002-55e94ebe1a76",
   "metadata": {},
   "outputs": [],
   "source": [
    "np.sum(np.subtract(y, fitted_y)) / len(x)"
   ]
  },
  {
   "cell_type": "markdown",
   "id": "e367807a-41a8-49b2-af89-9b74e9cf6386",
   "metadata": {},
   "source": [
    "The fitted curve is a little biased negative relative to the actual data, but I again feel that less than a fifth of a degree day average negative bias is satisfactory for practical use."
   ]
  },
  {
   "cell_type": "markdown",
   "id": "9f4f22f2-08ff-467e-979c-de51a106c9ba",
   "metadata": {},
   "source": [
    "## At this point I decide to rethink which parameter I want to base the model off of"
   ]
  },
  {
   "cell_type": "markdown",
   "id": "9d29e50a-35b4-4501-9c7d-f1b58a5ae1c2",
   "metadata": {},
   "source": [
    "My rationale is this: One of the biggest issues I'm facing in making this model is the extreme instability around small ratio values, and if you look at the difference vs predictor graphs I have towards the top, you can visually see that it is mostly the fault of the \"size of the overwintering population\" (pop_0) to blame for this. Furthermore, this parameter would be _very_ difficult to get an actual read on in the field. The capture probability parameter is both more uniformly stable around small values, and also is actually feasible to estimate in real world situations, so I'm going to generate a new data set, holding both mating delay and pop_0 constant, so as to get a direct look at the effect of the per degree day capture probability with significantly higher resolution. I also had to modify the data output from the simulation to get an integrated energence value, as the current system for using the population active works explicitly only for the first emergence, as any past that are subject to death and capture diminishing the true number of emergences."
   ]
  },
  {
   "cell_type": "markdown",
   "id": "19f88d0b-3bb4-4c8e-b687-533358e8686e",
   "metadata": {},
   "source": [
    "## Build DataFrames for the new focused set"
   ]
  },
  {
   "cell_type": "code",
   "execution_count": 2,
   "id": "6d94d5bc-9b3b-4a81-a2fe-d8b02f786899",
   "metadata": {},
   "outputs": [],
   "source": [
    "df = pd.read_csv('test_2.csv')\n",
    "dfs = np.array_split(df, len(df)/df.dd_span.head(1).iloc[0])"
   ]
  },
  {
   "cell_type": "code",
   "execution_count": 3,
   "id": "6c8bc660-07fa-4327-a060-dfe18dcb4080",
   "metadata": {},
   "outputs": [
    {
     "data": {
      "text/html": [
       "<div>\n",
       "<style scoped>\n",
       "    .dataframe tbody tr th:only-of-type {\n",
       "        vertical-align: middle;\n",
       "    }\n",
       "\n",
       "    .dataframe tbody tr th {\n",
       "        vertical-align: top;\n",
       "    }\n",
       "\n",
       "    .dataframe thead th {\n",
       "        text-align: right;\n",
       "    }\n",
       "</style>\n",
       "<table border=\"1\" class=\"dataframe\">\n",
       "  <thead>\n",
       "    <tr style=\"text-align: right;\">\n",
       "      <th></th>\n",
       "      <th>dd</th>\n",
       "      <th>captured</th>\n",
       "      <th>pop_active_0</th>\n",
       "      <th>pop_active_1</th>\n",
       "      <th>pop_active_2</th>\n",
       "      <th>pop_emerged_0</th>\n",
       "      <th>pop_emerged_1</th>\n",
       "      <th>pop_emerged_2</th>\n",
       "      <th>eggs_0</th>\n",
       "      <th>eggs_1</th>\n",
       "      <th>eggs_2</th>\n",
       "      <th>eggs_total_0</th>\n",
       "      <th>eggs_total_1</th>\n",
       "      <th>eggs_total_2</th>\n",
       "      <th>Unnamed: 14</th>\n",
       "      <th>pop_0</th>\n",
       "      <th>prob_capture</th>\n",
       "      <th>mating_delay</th>\n",
       "      <th>dd_span</th>\n",
       "    </tr>\n",
       "  </thead>\n",
       "  <tbody>\n",
       "    <tr>\n",
       "      <th>0</th>\n",
       "      <td>0</td>\n",
       "      <td>0.0</td>\n",
       "      <td>0.0</td>\n",
       "      <td>0.0</td>\n",
       "      <td>0.0</td>\n",
       "      <td>0.0</td>\n",
       "      <td>0.0</td>\n",
       "      <td>0.0</td>\n",
       "      <td>1000.0</td>\n",
       "      <td>0.0</td>\n",
       "      <td>0.0</td>\n",
       "      <td>1000</td>\n",
       "      <td>0.0</td>\n",
       "      <td>0.0</td>\n",
       "      <td>NaN</td>\n",
       "      <td>1000</td>\n",
       "      <td>0.0001</td>\n",
       "      <td>0</td>\n",
       "      <td>2201</td>\n",
       "    </tr>\n",
       "    <tr>\n",
       "      <th>1</th>\n",
       "      <td>1</td>\n",
       "      <td>0.0</td>\n",
       "      <td>0.0</td>\n",
       "      <td>0.0</td>\n",
       "      <td>0.0</td>\n",
       "      <td>0.0</td>\n",
       "      <td>0.0</td>\n",
       "      <td>0.0</td>\n",
       "      <td>1000.0</td>\n",
       "      <td>0.0</td>\n",
       "      <td>0.0</td>\n",
       "      <td>1000</td>\n",
       "      <td>0.0</td>\n",
       "      <td>0.0</td>\n",
       "      <td>NaN</td>\n",
       "      <td>1000</td>\n",
       "      <td>0.0001</td>\n",
       "      <td>0</td>\n",
       "      <td>2201</td>\n",
       "    </tr>\n",
       "    <tr>\n",
       "      <th>2</th>\n",
       "      <td>2</td>\n",
       "      <td>0.0</td>\n",
       "      <td>0.0</td>\n",
       "      <td>0.0</td>\n",
       "      <td>0.0</td>\n",
       "      <td>0.0</td>\n",
       "      <td>0.0</td>\n",
       "      <td>0.0</td>\n",
       "      <td>1000.0</td>\n",
       "      <td>0.0</td>\n",
       "      <td>0.0</td>\n",
       "      <td>1000</td>\n",
       "      <td>0.0</td>\n",
       "      <td>0.0</td>\n",
       "      <td>NaN</td>\n",
       "      <td>1000</td>\n",
       "      <td>0.0001</td>\n",
       "      <td>0</td>\n",
       "      <td>2201</td>\n",
       "    </tr>\n",
       "    <tr>\n",
       "      <th>3</th>\n",
       "      <td>3</td>\n",
       "      <td>0.0</td>\n",
       "      <td>0.0</td>\n",
       "      <td>0.0</td>\n",
       "      <td>0.0</td>\n",
       "      <td>0.0</td>\n",
       "      <td>0.0</td>\n",
       "      <td>0.0</td>\n",
       "      <td>1000.0</td>\n",
       "      <td>0.0</td>\n",
       "      <td>0.0</td>\n",
       "      <td>1000</td>\n",
       "      <td>0.0</td>\n",
       "      <td>0.0</td>\n",
       "      <td>NaN</td>\n",
       "      <td>1000</td>\n",
       "      <td>0.0001</td>\n",
       "      <td>0</td>\n",
       "      <td>2201</td>\n",
       "    </tr>\n",
       "    <tr>\n",
       "      <th>4</th>\n",
       "      <td>4</td>\n",
       "      <td>0.0</td>\n",
       "      <td>0.0</td>\n",
       "      <td>0.0</td>\n",
       "      <td>0.0</td>\n",
       "      <td>0.0</td>\n",
       "      <td>0.0</td>\n",
       "      <td>0.0</td>\n",
       "      <td>1000.0</td>\n",
       "      <td>0.0</td>\n",
       "      <td>0.0</td>\n",
       "      <td>1000</td>\n",
       "      <td>0.0</td>\n",
       "      <td>0.0</td>\n",
       "      <td>NaN</td>\n",
       "      <td>1000</td>\n",
       "      <td>0.0001</td>\n",
       "      <td>0</td>\n",
       "      <td>2201</td>\n",
       "    </tr>\n",
       "  </tbody>\n",
       "</table>\n",
       "</div>"
      ],
      "text/plain": [
       "   dd  captured  pop_active_0  pop_active_1  pop_active_2  pop_emerged_0  \\\n",
       "0   0       0.0           0.0           0.0           0.0            0.0   \n",
       "1   1       0.0           0.0           0.0           0.0            0.0   \n",
       "2   2       0.0           0.0           0.0           0.0            0.0   \n",
       "3   3       0.0           0.0           0.0           0.0            0.0   \n",
       "4   4       0.0           0.0           0.0           0.0            0.0   \n",
       "\n",
       "   pop_emerged_1  pop_emerged_2  eggs_0  eggs_1  eggs_2  eggs_total_0  \\\n",
       "0            0.0            0.0  1000.0     0.0     0.0          1000   \n",
       "1            0.0            0.0  1000.0     0.0     0.0          1000   \n",
       "2            0.0            0.0  1000.0     0.0     0.0          1000   \n",
       "3            0.0            0.0  1000.0     0.0     0.0          1000   \n",
       "4            0.0            0.0  1000.0     0.0     0.0          1000   \n",
       "\n",
       "   eggs_total_1  eggs_total_2  Unnamed: 14  pop_0  prob_capture  mating_delay  \\\n",
       "0           0.0           0.0          NaN   1000        0.0001             0   \n",
       "1           0.0           0.0          NaN   1000        0.0001             0   \n",
       "2           0.0           0.0          NaN   1000        0.0001             0   \n",
       "3           0.0           0.0          NaN   1000        0.0001             0   \n",
       "4           0.0           0.0          NaN   1000        0.0001             0   \n",
       "\n",
       "   dd_span  \n",
       "0     2201  \n",
       "1     2201  \n",
       "2     2201  \n",
       "3     2201  \n",
       "4     2201  "
      ]
     },
     "execution_count": 3,
     "metadata": {},
     "output_type": "execute_result"
    }
   ],
   "source": [
    "dfs[0].head()"
   ]
  },
  {
   "cell_type": "code",
   "execution_count": 4,
   "id": "6e9fe6db-ca14-4552-ac08-b41cfa7e6152",
   "metadata": {},
   "outputs": [
    {
     "name": "stdout",
     "output_type": "stream",
     "text": [
      "121, 111, 10\n"
     ]
    },
    {
     "data": {
      "text/html": [
       "<div>\n",
       "<style scoped>\n",
       "    .dataframe tbody tr th:only-of-type {\n",
       "        vertical-align: middle;\n",
       "    }\n",
       "\n",
       "    .dataframe tbody tr th {\n",
       "        vertical-align: top;\n",
       "    }\n",
       "\n",
       "    .dataframe thead th {\n",
       "        text-align: right;\n",
       "    }\n",
       "</style>\n",
       "<table border=\"1\" class=\"dataframe\">\n",
       "  <thead>\n",
       "    <tr style=\"text-align: right;\">\n",
       "      <th></th>\n",
       "      <th>dd</th>\n",
       "      <th>captured</th>\n",
       "      <th>pop_active_0</th>\n",
       "      <th>pop_active_1</th>\n",
       "      <th>pop_active_2</th>\n",
       "      <th>pop_emerged_0</th>\n",
       "      <th>pop_emerged_1</th>\n",
       "      <th>pop_emerged_2</th>\n",
       "      <th>eggs_0</th>\n",
       "      <th>eggs_1</th>\n",
       "      <th>eggs_2</th>\n",
       "      <th>eggs_total_0</th>\n",
       "      <th>eggs_total_1</th>\n",
       "      <th>eggs_total_2</th>\n",
       "      <th>Unnamed: 14</th>\n",
       "      <th>pop_0</th>\n",
       "      <th>prob_capture</th>\n",
       "      <th>mating_delay</th>\n",
       "      <th>dd_span</th>\n",
       "    </tr>\n",
       "  </thead>\n",
       "  <tbody>\n",
       "    <tr>\n",
       "      <th>440321</th>\n",
       "      <td>121</td>\n",
       "      <td>21.234134</td>\n",
       "      <td>11.174637</td>\n",
       "      <td>0.0</td>\n",
       "      <td>0.0</td>\n",
       "      <td>38.439650</td>\n",
       "      <td>0.0</td>\n",
       "      <td>0.0</td>\n",
       "      <td>961.560350</td>\n",
       "      <td>1768.936729</td>\n",
       "      <td>0.0</td>\n",
       "      <td>1000</td>\n",
       "      <td>1768.936729</td>\n",
       "      <td>0.0</td>\n",
       "      <td>NaN</td>\n",
       "      <td>1000</td>\n",
       "      <td>0.10005</td>\n",
       "      <td>0</td>\n",
       "      <td>2201</td>\n",
       "    </tr>\n",
       "    <tr>\n",
       "      <th>440311</th>\n",
       "      <td>111</td>\n",
       "      <td>10.440557</td>\n",
       "      <td>7.780040</td>\n",
       "      <td>0.0</td>\n",
       "      <td>0.0</td>\n",
       "      <td>20.018265</td>\n",
       "      <td>0.0</td>\n",
       "      <td>0.0</td>\n",
       "      <td>979.981735</td>\n",
       "      <td>860.300407</td>\n",
       "      <td>0.0</td>\n",
       "      <td>1000</td>\n",
       "      <td>860.300407</td>\n",
       "      <td>0.0</td>\n",
       "      <td>NaN</td>\n",
       "      <td>1000</td>\n",
       "      <td>0.10005</td>\n",
       "      <td>0</td>\n",
       "      <td>2201</td>\n",
       "    </tr>\n",
       "  </tbody>\n",
       "</table>\n",
       "</div>"
      ],
      "text/plain": [
       "         dd   captured  pop_active_0  pop_active_1  pop_active_2  \\\n",
       "440321  121  21.234134     11.174637           0.0           0.0   \n",
       "440311  111  10.440557      7.780040           0.0           0.0   \n",
       "\n",
       "        pop_emerged_0  pop_emerged_1  pop_emerged_2      eggs_0       eggs_1  \\\n",
       "440321      38.439650            0.0            0.0  961.560350  1768.936729   \n",
       "440311      20.018265            0.0            0.0  979.981735   860.300407   \n",
       "\n",
       "        eggs_2  eggs_total_0  eggs_total_1  eggs_total_2  Unnamed: 14  pop_0  \\\n",
       "440321     0.0          1000   1768.936729           0.0          NaN   1000   \n",
       "440311     0.0          1000    860.300407           0.0          NaN   1000   \n",
       "\n",
       "        prob_capture  mating_delay  dd_span  \n",
       "440321       0.10005             0     2201  \n",
       "440311       0.10005             0     2201  "
      ]
     },
     "execution_count": 4,
     "metadata": {},
     "output_type": "execute_result"
    }
   ],
   "source": [
    "thresh = 20\n",
    "frame = dfs[200]\n",
    "first_capture = frame[frame.captured > thresh].head(1)\n",
    "first_emergence = frame[(frame.pop_emerged_0 > thresh)].head(1)\n",
    "if not first_capture.empty and not first_emergence.empty:\n",
    "    diff = first_capture.dd.iloc[0] - first_emergence.dd.iloc[0]\n",
    "    print(f'{first_capture.dd.iloc[0]}, {first_emergence.dd.iloc[0]}, {diff}')\n",
    "pd.concat([first_capture.head(), first_emergence.head()])"
   ]
  },
  {
   "cell_type": "markdown",
   "id": "4f37290b-e903-4145-9ee9-55da5267fd47",
   "metadata": {},
   "source": [
    "## Investigate also how the difference evolves when looking at second captures, third captures, etc."
   ]
  },
  {
   "cell_type": "markdown",
   "id": "5d6621cb-0826-45cc-b31d-25274b5fc5f9",
   "metadata": {},
   "source": [
    "### Compile 1st through 25th differences"
   ]
  },
  {
   "cell_type": "code",
   "execution_count": 6,
   "id": "e4003608-218c-47df-88c7-14909dcd0dbb",
   "metadata": {},
   "outputs": [
    {
     "data": {
      "text/plain": [
       "25"
      ]
     },
     "execution_count": 6,
     "metadata": {},
     "output_type": "execute_result"
    }
   ],
   "source": [
    "diffs = []\n",
    "for i in range(1,26):\n",
    "    row = compile_diffs(dfs, i)\n",
    "    row_df = pd.DataFrame(row, columns=['difference', 'ratio', 'naive_ratio', 'pop_0', 'prob_capture', 'mating_delay'])\n",
    "    diffs.append(row_df)\n",
    "\n",
    "len(diffs)"
   ]
  },
  {
   "cell_type": "markdown",
   "id": "e04eb522-8597-495b-b4c3-b8cd2d2703eb",
   "metadata": {},
   "source": [
    "### Look at the graphs of the first, second, third, fifth, tenth, and twentieth differences against the probability of capture"
   ]
  },
  {
   "cell_type": "code",
   "execution_count": 17,
   "id": "7b41300f-c590-48c6-93ab-2f6a3ef5d21c",
   "metadata": {},
   "outputs": [
    {
     "data": {
      "text/plain": [
       "<Axes: title={'center': 'Twentieth diffs'}, xlabel='prob_capture', ylabel='difference'>"
      ]
     },
     "execution_count": 17,
     "metadata": {},
     "output_type": "execute_result"
    },
    {
     "data": {
      "image/png": "[encoded data removed]",
      "text/plain": [
       "<Figure size 640x480 with 1 Axes>"
      ]
     },
     "metadata": {},
     "output_type": "display_data"
    },
    {
     "data": {
      "image/png": "[encoded data removed]",
      "text/plain": [
       "<Figure size 640x480 with 1 Axes>"
      ]
     },
     "metadata": {},
     "output_type": "display_data"
    },
    {
     "data": {
      "image/png": "[encoded data removed]",
      "text/plain": [
       "<Figure size 640x480 with 1 Axes>"
      ]
     },
     "metadata": {},
     "output_type": "display_data"
    },
    {
     "data": {
      "image/png": "[encoded data removed]",
      "text/plain": [
       "<Figure size 640x480 with 1 Axes>"
      ]
     },
     "metadata": {},
     "output_type": "display_data"
    },
    {
     "data": {
      "image/png": "[encoded data removed]",
      "text/plain": [
       "<Figure size 640x480 with 1 Axes>"
      ]
     },
     "metadata": {},
     "output_type": "display_data"
    },
    {
     "data": {
      "image/png": "[encoded data removed]",
      "text/plain": [
       "<Figure size 640x480 with 1 Axes>"
      ]
     },
     "metadata": {},
     "output_type": "display_data"
    }
   ],
   "source": [
    "is_log = True\n",
    "diffs[0].plot.scatter(4, 0, 1.5, title='First diffs', loglog=is_log)\n",
    "diffs[1].plot.scatter(4, 0, 1.5, title='Second diffs', loglog=is_log)\n",
    "diffs[2].plot.scatter(4, 0, 1.5, title='Third diffs', loglog=is_log)\n",
    "diffs[4].plot.scatter(4, 0, 1.5, title='FIfth diffs', loglog=is_log)\n",
    "diffs[9].plot.scatter(4, 0, 1.5, title='Tenth diffs', loglog=is_log)\n",
    "diffs[19].plot.scatter(4, 0, 1.5, title='Twentieth diffs', loglog=is_log)"
   ]
  },
  {
   "cell_type": "markdown",
   "id": "4b3efe90-f4ec-4310-a059-4694ca688867",
   "metadata": {},
   "source": [
    "## Make a better fitting function for the more well behaved data"
   ]
  },
  {
   "cell_type": "code",
   "execution_count": 13,
   "id": "57aea121-f3e2-4fb2-ad7b-d4af7371e9cb",
   "metadata": {},
   "outputs": [],
   "source": [
    "import statsmodels.formula.api as smf\n",
    "\n",
    "def new_autofit(x, y, full_output=False):\n",
    "    data = pd.DataFrame({'difference':y, 'prob_capture':x})\n",
    "    model = smf.ols('np.log(difference) ~ np.log(prob_capture)', data=data).fit()\n",
    "    return (model.params[1], model.params[0])\n"
   ]
  },
  {
   "cell_type": "code",
   "execution_count": 33,
   "id": "3bcd18e8-c3e0-4ee0-bff6-01109ea9850a",
   "metadata": {},
   "outputs": [
    {
     "name": "stdout",
     "output_type": "stream",
     "text": [
      "(-0.7078228893131745, -0.028807972257314438)\n"
     ]
    },
    {
     "data": {
      "image/png": "[encoded data removed]",
      "text/plain": [
       "<Figure size 640x480 with 1 Axes>"
      ]
     },
     "metadata": {},
     "output_type": "display_data"
    }
   ],
   "source": [
    "x = diffs[1].prob_capture\n",
    "y = diffs[1].difference\n",
    "\n",
    "a, b = new_autofit(x, y)\n",
    "\n",
    "fitted_x = np.linspace(x.min(), x.max(), len(y))\n",
    "fitted_y = np.multiply(np.power(x, a), b)\n",
    "\n",
    "ax = plt.axes()\n",
    "ax.scatter(x, y, label='Data', s=2)\n",
    "ax.scatter(x, fitted_y, label='Prediction', s=1)\n",
    "ax.set_title('Fitted curve for ratio to difference relationship')\n",
    "ax.set_ylabel('ln( difference )')\n",
    "ax.set_yscale('log')\n",
    "#ax.set_xscale('log')\n",
    "ax.set_ylim(1, 80)\n",
    "ax.set_xlabel('ratio')\n",
    "ax.legend()\n",
    "print((a, b))"
   ]
  },
  {
   "cell_type": "code",
   "execution_count": null,
   "id": "5d444185-a5a0-43ca-8b8d-8f76b5560ed3",
   "metadata": {},
   "outputs": [],
   "source": [
    "residual_plot(x, y, fitted_y)"
   ]
  },
  {
   "cell_type": "code",
   "execution_count": null,
   "id": "2cfcbfa6-91f3-4949-8c34-0384d5212abc",
   "metadata": {},
   "outputs": [],
   "source": [
    "x = diffs[2].ratio\n",
    "y = diffs[2].difference\n",
    "\n",
    "c = 0.2\n",
    "a, b = autofit_reciprocal(x, y, 3, 0.7, c)\n",
    "\n",
    "y_linear = np.power(np.multiply(np.reciprocal(np.subtract(y, b)), a), 1 / c)\n",
    "\n",
    "fitted_x = np.linspace(x.min(), x.max(),1000)\n",
    "fitted_y = np.add(np.multiply(np.reciprocal(np.power(x, c)), a), b)\n",
    "\n",
    "ax = plt.axes()\n",
    "ax.scatter(x, y, label='Data', s=2)\n",
    "ax.scatter(x, fitted_y, label='Prediction', s=1)\n",
    "ax.set_title('Fitted curve for ratio to difference relationship')\n",
    "ax.set_ylabel('ln( difference )')\n",
    "ax.set_yscale('log') # view in log to emphasize small differences\n",
    "ax.set_ylim(1, 80)\n",
    "ax.set_xlabel('ratio')\n",
    "ax.legend()\n",
    "print((a, b))"
   ]
  },
  {
   "cell_type": "code",
   "execution_count": null,
   "id": "2039a59b-fe97-4481-beb7-ced83d23cc7b",
   "metadata": {},
   "outputs": [],
   "source": [
    "residual_plot(x, y, fitted_y)"
   ]
  }
 ],
 "metadata": {
  "kernelspec": {
   "display_name": "Python 3 (ipykernel)",
   "language": "python",
   "name": "python3"
  },
  "language_info": {
   "codemirror_mode": {
    "name": "ipython",
    "version": 3
   },
   "file_extension": ".py",
   "mimetype": "text/x-python",
   "name": "python",
   "nbconvert_exporter": "python",
   "pygments_lexer": "ipython3",
   "version": "3.11.5"
  }
 },
 "nbformat": 4,
 "nbformat_minor": 5
}
